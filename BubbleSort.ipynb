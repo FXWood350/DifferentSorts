{
 "cells": [
  {
   "cell_type": "markdown",
   "metadata": {},
   "source": [
    "# Bubble sort"
   ]
  },
  {
   "cell_type": "markdown",
   "metadata": {},
   "source": [
    "Bubble sort is possibly the easiest Sort to code. Bubble sort involves passing over a list many times and continually swapping pairs of number that are in the wrong place-"
   ]
  },
  {
   "cell_type": "code",
   "execution_count": null,
   "metadata": {},
   "outputs": [],
   "source": [
    "list = [11, 2, 3, 123, 98, 5, 4, 3, 2]\n",
    "#Creates a list to be sorted\n",
    "print(\"List before is: \",list)\n",
    "if list[0]>list[1]:\n",
    "    Temp = list[1]\n",
    "    list[1]=list[0]\n",
    "    list[0]=Temp\n",
    "print(\"List after first swap is: \",list)"
   ]
  },
  {
   "cell_type": "markdown",
   "metadata": {},
   "source": [
    "Note how we have a Temp variable to hold the number whilst its position in the list is overwritten with the correct number.\n",
    "As you can see, the first two values have been swapped around in this code. This process is repeated on the next pair, and then the next pair ad infinitum."
   ]
  },
  {
   "cell_type": "code",
   "execution_count": null,
   "metadata": {},
   "outputs": [],
   "source": [
    "for x in range(0,len(list)-1):\n",
    "    print(list)\n",
    "    if list[x]>list[x+1]:\n",
    "      Temp = list[x+1]\n",
    "      list[x+1]=list[x]\n",
    "      list[x]=Temp\n",
    "      \n",
    "print(\"List after first pass is: \",list)"
   ]
  },
  {
   "cell_type": "markdown",
   "metadata": {},
   "source": [
    "As you can see, the list is still not in order- how shall we fix this? The answer- Perform another pass!"
   ]
  },
  {
   "cell_type": "code",
   "execution_count": null,
   "metadata": {},
   "outputs": [],
   "source": [
    "for x in range(0,len(list)-1):\n",
    "    print(list)\n",
    "    if list[x]>list[x+1]:\n",
    "      Temp = list[x+1]\n",
    "      list[x+1]=list[x]\n",
    "      list[x]=Temp\n",
    "      \n",
    "print(\"List after Second pass is: \",list)"
   ]
  },
  {
   "cell_type": "markdown",
   "metadata": {},
   "source": [
    "How could we make this a bit more automated- instead of rerunning it each and every time? Well, since the code will not make any swaps if the list is in order, we could continually pass through the list until we have had a pass with no swaps done! Here's how I did it, with the help of a Bool called swaps done (Which tells me if there has been a Swap in the whole of the pass):"
   ]
  },
  {
   "cell_type": "code",
   "execution_count": null,
   "metadata": {},
   "outputs": [],
   "source": [
    "SwapsDone = True\n",
    "while SwapsDone == True:\n",
    "  print(list)\n",
    "  SwapsDone = False #If no swaps are done, then this setting of SwapsDone to false will stop the while loop.\n",
    "  for x in range(0,len(list)-1):\n",
    "    if list[x]>list[x+1]:\n",
    "      Temp = list[x+1]\n",
    "      list[x+1]=list[x]\n",
    "      list[x]=Temp\n",
    "      SwapsDone = True"
   ]
  },
  {
   "cell_type": "markdown",
   "metadata": {},
   "source": [
    "Note how many passes we need for it to be sorted- Thus the time needed to sort a list on average grows exponentially as the list becomes longer."
   ]
  }
 ],
 "metadata": {
  "kernelspec": {
   "display_name": "Python 3",
   "language": "python",
   "name": "python3"
  },
  "language_info": {
   "codemirror_mode": {
    "name": "ipython",
    "version": 3
   },
   "file_extension": ".py",
   "mimetype": "text/x-python",
   "name": "python",
   "nbconvert_exporter": "python",
   "pygments_lexer": "ipython3",
   "version": "3.7.3"
  }
 },
 "nbformat": 4,
 "nbformat_minor": 4
}
