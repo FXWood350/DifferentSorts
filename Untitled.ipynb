{
 "cells": [
  {
   "cell_type": "markdown",
   "metadata": {},
   "source": [
    "# Bubble sort"
   ]
  },
  {
   "cell_type": "markdown",
   "metadata": {},
   "source": [
    "Bubble sort is possibly the easiest Sort to code. Bubble sort involves passing over a list many times and continually swapping pairs of number that are in the wrong place-"
   ]
  },
  {
   "cell_type": "code",
   "execution_count": 1,
   "metadata": {},
   "outputs": [
    {
     "name": "stdout",
     "output_type": "stream",
     "text": [
      "[11, 2, 3, 123, 98, 5, 4, 3, 2]\n",
      "[2, 11, 3, 123, 98, 5, 4, 3, 2]\n",
      "[2, 3, 11, 123, 98, 5, 4, 3, 2]\n",
      "[2, 3, 11, 123, 98, 5, 4, 3, 2]\n",
      "[2, 3, 11, 98, 123, 5, 4, 3, 2]\n",
      "[2, 3, 11, 98, 5, 123, 4, 3, 2]\n",
      "[2, 3, 11, 98, 5, 4, 123, 3, 2]\n",
      "[2, 3, 11, 98, 5, 4, 3, 123, 2]\n"
     ]
    }
   ],
   "source": [
    "list = [11, 2, 3, 123, 98, 5, 4, 3, 2]\n",
    "#Creates a list to be sorted\n",
    "for x in range(0,len(list)-1):\n",
    "    print(list)\n",
    "    if list[x]>list[x+1]:\n",
    "        Temp = list[x+1]\n",
    "        list[x+1]=list[x]\n",
    "        list[x]=Temp"
   ]
  },
  {
   "cell_type": "code",
   "execution_count": null,
   "metadata": {},
   "outputs": [],
   "source": []
  }
 ],
 "metadata": {
  "kernelspec": {
   "display_name": "Python 3",
   "language": "python",
   "name": "python3"
  },
  "language_info": {
   "codemirror_mode": {
    "name": "ipython",
    "version": 3
   },
   "file_extension": ".py",
   "mimetype": "text/x-python",
   "name": "python",
   "nbconvert_exporter": "python",
   "pygments_lexer": "ipython3",
   "version": "3.7.3"
  }
 },
 "nbformat": 4,
 "nbformat_minor": 4
}
