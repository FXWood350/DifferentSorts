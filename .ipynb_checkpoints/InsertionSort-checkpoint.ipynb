{
 "cells": [
  {
   "cell_type": "markdown",
   "metadata": {},
   "source": [
    "# Insertion Sort\n",
    "Insertion sort can be thought of as an improved version of bubble sort where one value is shifted to its correct place in the list, and then  the next one, and then the next one.\n",
    "\n",
    "Consider the first Swap on this List: "
   ]
  },
  {
   "cell_type": "code",
   "execution_count": null,
   "metadata": {},
   "outputs": [],
   "source": [
    "list = [11, 2, 1, 123, 98, 5, 4, 3, 2]\n",
    "print(\"List beforehand is: \",list)\n",
    "#Creates a list to be sorted\n",
    "CurrentVal = list[1] #2 in this case\n",
    "Position = 1 \n",
    "while (Position > 0) and (list[Position-1]>CurrentVal): #Position - 1 in list is 11, which is indeed larger than 2 \n",
    "    list[Position] = list[Position-1] #Overwrites Index 1 in list as 11\n",
    "    Position = Position-1 \n",
    "list[Position] = CurrentVal #Index 0 is now 2\n",
    "print(\"List after first swap is: \",list)"
   ]
  },
  {
   "cell_type": "markdown",
   "metadata": {},
   "source": [
    "Our Sorted part of the list is the first two indexes- 2 & 11. The next value along is 1 - which will now be placed into this sorted portion of the list:"
   ]
  },
  {
   "cell_type": "code",
   "execution_count": null,
   "metadata": {},
   "outputs": [],
   "source": [
    "CurrentVal = list[2] #1 in this case\n",
    "Position = 2 \n",
    "while (Position > 0) and (list[Position-1]>CurrentVal): #Position - 1 in list is 11, which is larger than 1 \n",
    "    list[Position] = list[Position-1] #Overwrites Index 2 in list as 11\n",
    "    Position = Position-1\n",
    "list[Position] = CurrentVal  #Index 1 is now 1\n",
    "print(\"List after second swap is: \",list)"
   ]
  },
  {
   "cell_type": "markdown",
   "metadata": {},
   "source": [
    "In case you did not notice, 1 is still larger than 2! So, the program swaps again as list[Position-1]>CurrentVal is still valid.\n",
    "\n",
    "Now we can go through the rigmarole of automation:"
   ]
  },
  {
   "cell_type": "code",
   "execution_count": null,
   "metadata": {},
   "outputs": [],
   "source": [
    "for x in range(0,len(list)):\n",
    "  print(list)\n",
    "  CurrentVal = list[x]\n",
    "  Pos = x\n",
    "  while (Pos > 0) and (list[Pos-1]>CurrentVal):\n",
    "    list[Pos] = list[Pos-1]\n",
    "    Pos = Pos-1\n",
    "  list[Pos] = CurrentVal\n",
    "\n",
    "print(\"Sorted list is: \",list)"
   ]
  },
  {
   "cell_type": "markdown",
   "metadata": {},
   "source": [
    "Note how it's len(list) and not len(list)-1 - This way the value at the top of the list would actually be sorted instead of missed.\n",
    "\n",
    "It is compared with the non-existent value above the final value, and doesn't do anything with it.\n",
    "\n"
   ]
  }
 ],
 "metadata": {
  "kernelspec": {
   "display_name": "Python 3",
   "language": "python",
   "name": "python3"
  },
  "language_info": {
   "codemirror_mode": {
    "name": "ipython",
    "version": 3
   },
   "file_extension": ".py",
   "mimetype": "text/x-python",
   "name": "python",
   "nbconvert_exporter": "python",
   "pygments_lexer": "ipython3",
   "version": "3.7.3"
  }
 },
 "nbformat": 4,
 "nbformat_minor": 4
}
