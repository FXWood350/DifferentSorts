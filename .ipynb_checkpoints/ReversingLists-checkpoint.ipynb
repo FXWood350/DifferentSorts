{
 "cells": [
  {
   "cell_type": "markdown",
   "metadata": {},
   "source": [
    "# Reversing a list\n",
    "Technically this shouldn't go under lists, but i'll do it anyway cause why not.\n",
    "\n",
    "I think the coolest way is to use a List Comprehension:"
   ]
  },
  {
   "cell_type": "code",
   "execution_count": 9,
   "metadata": {},
   "outputs": [
    {
     "name": "stdout",
     "output_type": "stream",
     "text": [
      "[2, 3, 4, 5, 98, 123, 3, 2, 11]\n"
     ]
    }
   ],
   "source": [
    "ListIN = [11, 2, 3, 123, 98, 5, 4, 3, 2]\n",
    "\n",
    "OutputList = [ListIN[n] for n in range(len(ListIN)-1,-1,-1)]\n",
    "\n",
    "print(OutputList)"
   ]
  },
  {
   "cell_type": "markdown",
   "metadata": {},
   "source": [
    "## So how does this work?\n",
    "\n",
    "A list comprehension is essentially a glorified for loop for List creation/manipulation. Don't run the following cell.\n"
   ]
  },
  {
   "cell_type": "code",
   "execution_count": null,
   "metadata": {},
   "outputs": [],
   "source": [
    "OldList = ['Insert List here']\n",
    "\n",
    "NewList = [ expression for item in OldList if conditional ] "
   ]
  },
  {
   "cell_type": "markdown",
   "metadata": {},
   "source": [
    "Confused? This can be rewritten as:"
   ]
  },
  {
   "cell_type": "code",
   "execution_count": null,
   "metadata": {},
   "outputs": [],
   "source": [
    "OldList = ['Insert List here']\n",
    "\n",
    "for item in OldList:\n",
    "    if conditional:\n",
    "        expression"
   ]
  },
  {
   "cell_type": "markdown",
   "metadata": {},
   "source": [
    "Perhaps an example would make this easier. Let's double every value in a list:"
   ]
  },
  {
   "cell_type": "code",
   "execution_count": 18,
   "metadata": {},
   "outputs": [
    {
     "name": "stdout",
     "output_type": "stream",
     "text": [
      "[22, 4, 6, 246, 196, 10, 8, 6, 4]\n"
     ]
    }
   ],
   "source": [
    "ListIN = [11, 2, 3, 123, 98, 5, 4, 3, 2]\n",
    "\n",
    "OutputList = [ListIN[n]*2 for n in range(0,len(ListIN)) if True]\n",
    "\n",
    "print(OutputList)"
   ]
  },
  {
   "cell_type": "markdown",
   "metadata": {},
   "source": [
    "Could be written as..."
   ]
  },
  {
   "cell_type": "code",
   "execution_count": 16,
   "metadata": {},
   "outputs": [
    {
     "name": "stdout",
     "output_type": "stream",
     "text": [
      "[22, 4, 6, 246, 196, 10, 8, 6, 4]\n"
     ]
    }
   ],
   "source": [
    "ListIN = [11, 2, 3, 123, 98, 5, 4, 3, 2]\n",
    "OutputList = []\n",
    "for x in range(0,len(ListIN)):\n",
    "    if True:\n",
    "        OutputList.append(ListIN[x]*2)\n",
    "print(OutputList)"
   ]
  },
  {
   "cell_type": "markdown",
   "metadata": {},
   "source": [
    "To give an actual use of the If statement in order to clarify things, I shall make OutputList contain the numbers of ListIN IF they are in an even index:"
   ]
  },
  {
   "cell_type": "code",
   "execution_count": 22,
   "metadata": {},
   "outputs": [
    {
     "name": "stdout",
     "output_type": "stream",
     "text": [
      "[11, 3, 98, 4, 2]\n"
     ]
    }
   ],
   "source": [
    "ListIN = [11, 2, 3, 123, 98, 5, 4, 3, 2]\n",
    "\n",
    "OutputList = [ListIN[n] for n in range(0,len(ListIN)) if n % 2==0]\n",
    "\n",
    "print(OutputList)"
   ]
  },
  {
   "cell_type": "markdown",
   "metadata": {},
   "source": [
    "## So how does the reverse-thingy work?\n",
    "It's quite simple actually- we iterate through every value of ListIN in reverse order (hence why range() starts at len(ListIN)-1 and ends at -1) and append to OutputList. There is no conditional, because we do not want/need it to be conditional."
   ]
  }
 ],
 "metadata": {
  "kernelspec": {
   "display_name": "Python 3",
   "language": "python",
   "name": "python3"
  },
  "language_info": {
   "codemirror_mode": {
    "name": "ipython",
    "version": 3
   },
   "file_extension": ".py",
   "mimetype": "text/x-python",
   "name": "python",
   "nbconvert_exporter": "python",
   "pygments_lexer": "ipython3",
   "version": "3.7.3"
  }
 },
 "nbformat": 4,
 "nbformat_minor": 4
}
